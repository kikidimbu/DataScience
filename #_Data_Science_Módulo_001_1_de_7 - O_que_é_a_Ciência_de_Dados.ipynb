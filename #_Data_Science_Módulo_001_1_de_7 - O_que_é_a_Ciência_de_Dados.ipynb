{
  "nbformat": 4,
  "nbformat_minor": 0,
  "metadata": {
    "colab": {
      "provenance": []
    },
    "kernelspec": {
      "name": "python3",
      "display_name": "Python 3"
    },
    "language_info": {
      "name": "python"
    }
  },
  "cells": [
    {
      "cell_type": "markdown",
      "source": [
        "# O que é Ciência de DAdos"
      ],
      "metadata": {
        "id": "3VcTCwjZX1ej"
      }
    },
    {
      "cell_type": "markdown",
      "source": [
        "Precisamos saber responder às perguntas:\n",
        "- Qual é a importância de Ciência de Dados?\n",
        "- Como isso vai trazer lucro para a empresa?"
      ],
      "metadata": {
        "id": "R2ZR_g42iIhx"
      }
    },
    {
      "cell_type": "markdown",
      "source": [
        "Quando você passa o seu cartão e recebe uma mensagem de que \"Essa transação não foi aprovada\"\n",
        "\n",
        "\"Será que estão pensando que isso é uma fraude?\"\n",
        "\n",
        "Ou recebeu uma mensagem como essa:\n",
        "\n",
        "\"Cartão final 01234: Reconhece compra realizada em 12/08/22 às 20h58, de R$ 3.262,92? RESPONDA: 1 (SIM) ou 2 (NÃO)\"\n",
        "\n",
        "Ou quando tentou aumentar o limite do seu cartão e pensou:\n",
        "\n",
        "\"Nossa o Banco está achando que sou mau pagador?\""
      ],
      "metadata": {
        "id": "QcdvyDhmX1XS"
      }
    },
    {
      "cell_type": "markdown",
      "source": [],
      "metadata": {
        "id": "j_bqlVQuX1cP"
      }
    },
    {
      "cell_type": "markdown",
      "source": [],
      "metadata": {
        "id": "aT4a990NX1Z1"
      }
    },
    {
      "cell_type": "markdown",
      "source": [
        "ISSO TUDO É CIÊNCIA DE DADOS!"
      ],
      "metadata": {
        "id": "5MDugeNHX1Si"
      }
    },
    {
      "cell_type": "markdown",
      "source": [
        "Então, vamos entender o que está por trás das mensagens?\n"
      ],
      "metadata": {
        "id": "z7UwzTk3X1OP"
      }
    },
    {
      "cell_type": "markdown",
      "source": [
        "## Análise histórica do meu comportamento:"
      ],
      "metadata": {
        "id": "hQ6oL2RAX1JG"
      }
    },
    {
      "cell_type": "markdown",
      "source": [
        "- Valor médio da compra;\n",
        "- Horário da compra;\n",
        "- Histórico de pagamentos;\n",
        "- Uso do limite do cartão;\n",
        "- Locais frequentes de compra;\n",
        "- Local de compra atual;\n",
        "- Histórico do local da compra."
      ],
      "metadata": {
        "id": "1sQ_r3XtX1Lv"
      }
    },
    {
      "cell_type": "markdown",
      "source": [
        "## Modelo de identificação de fraude"
      ],
      "metadata": {
        "id": "jA_xDauUX1Gb"
      }
    },
    {
      "cell_type": "markdown",
      "source": [
        "Sempre que chamamos algo de **modelo** é um conjunto de regras que vai analisar alguma decisão a ser tomada."
      ],
      "metadata": {
        "id": "sr2ZX0-EjacB"
      }
    },
    {
      "cell_type": "markdown",
      "source": [
        "- Essa transação que eu estou fazendo agora **pode ser** uma fraude?\n",
        "- Existe **risco** em aumentar o meu limite do cartão de crédito?\n",
        "\n",
        "As termos chave neste modelo são: \"pode ser\" e \"risco\" na tentativa de analisar as probabilidades estatísticas de pagamento ou fraude"
      ],
      "metadata": {
        "id": "glffKIHEjbsC"
      }
    },
    {
      "cell_type": "markdown",
      "source": [
        "## Análise da transação atual"
      ],
      "metadata": {
        "id": "hucGF5Ajjbkq"
      }
    },
    {
      "cell_type": "markdown",
      "source": [
        "- Uso do atual limite;\n",
        "- Horário da compra;\n",
        "- Valor;\n",
        "- Local."
      ],
      "metadata": {
        "id": "YpPTgZGGjbe2"
      }
    },
    {
      "cell_type": "markdown",
      "source": [
        "TODO ESSE PROCESSO ACONTECE EM SEGUNDOS. A troca de informações entre o servidor e o receptor.\n",
        "\n",
        "Enquanto a mensagem \"Processando\" aparece, estamos aguardando que o sistema faça a análise do **modelo** e a retorne.\n",
        "\n",
        "A construção deste projeto toma muito tempo, às vezes anos, porém seu uso é que se aplica em segundos.\n",
        "\n",
        "E a ciência de dados também se aproveita da resposta à mensagem de texto pedindo ao cliente para confirmar se foi ele ou não, e a armazena, adicionando a informação como novo dado nos históricos da *Análise Histórica do meu comportamento* ou no *Modelo de identificação de Fraude*."
      ],
      "metadata": {
        "id": "b2u1VPxHkXSt"
      }
    },
    {
      "cell_type": "markdown",
      "source": [],
      "metadata": {
        "id": "QyEXZzM1kXQQ"
      }
    },
    {
      "cell_type": "markdown",
      "source": [],
      "metadata": {
        "id": "Rz1UmGWMkXN5"
      }
    },
    {
      "cell_type": "markdown",
      "source": [],
      "metadata": {
        "id": "GWX31PL_kXLr"
      }
    },
    {
      "cell_type": "markdown",
      "source": [],
      "metadata": {
        "id": "Q7HIAujJkXJG"
      }
    },
    {
      "cell_type": "markdown",
      "source": [],
      "metadata": {
        "id": "cnPk27S5kXGR"
      }
    },
    {
      "cell_type": "markdown",
      "source": [],
      "metadata": {
        "id": "Is6Qg5JmkXEB"
      }
    },
    {
      "cell_type": "markdown",
      "source": [],
      "metadata": {
        "id": "Ta_CPjTRkWgf"
      }
    },
    {
      "cell_type": "markdown",
      "source": [],
      "metadata": {
        "id": "QzFbacBikWdy"
      }
    },
    {
      "cell_type": "markdown",
      "source": [],
      "metadata": {
        "id": "TrzCrBzOkWbH"
      }
    },
    {
      "cell_type": "markdown",
      "source": [],
      "metadata": {
        "id": "1PodsJCBkWYi"
      }
    },
    {
      "cell_type": "markdown",
      "source": [],
      "metadata": {
        "id": "BAvpzQ79kWWO"
      }
    },
    {
      "cell_type": "markdown",
      "source": [],
      "metadata": {
        "id": "-MJ4-S0RkWTk"
      }
    },
    {
      "cell_type": "markdown",
      "source": [],
      "metadata": {
        "id": "zrLikyAXkWQl"
      }
    },
    {
      "cell_type": "markdown",
      "source": [],
      "metadata": {
        "id": "BrjldeULkWL5"
      }
    },
    {
      "cell_type": "markdown",
      "source": [],
      "metadata": {
        "id": "gjF6JwemkWJr"
      }
    },
    {
      "cell_type": "markdown",
      "source": [],
      "metadata": {
        "id": "gbjB-YODkWHF"
      }
    },
    {
      "cell_type": "markdown",
      "source": [],
      "metadata": {
        "id": "x7hfSYKvkWEi"
      }
    },
    {
      "cell_type": "markdown",
      "source": [],
      "metadata": {
        "id": "koDrD2IikWBv"
      }
    },
    {
      "cell_type": "markdown",
      "source": [],
      "metadata": {
        "id": "S2N_WN4gkV87"
      }
    },
    {
      "cell_type": "markdown",
      "source": [],
      "metadata": {
        "id": "yY1xN05GkV64"
      }
    },
    {
      "cell_type": "markdown",
      "source": [],
      "metadata": {
        "id": "ZmZMcYEhkV4k"
      }
    },
    {
      "cell_type": "markdown",
      "source": [],
      "metadata": {
        "id": "KMY0saJskV2K"
      }
    },
    {
      "cell_type": "markdown",
      "source": [],
      "metadata": {
        "id": "Wg3lpIEMkVxX"
      }
    },
    {
      "cell_type": "markdown",
      "source": [],
      "metadata": {
        "id": "Znt66JBOkVuo"
      }
    },
    {
      "cell_type": "markdown",
      "source": [],
      "metadata": {
        "id": "tWxXjF6xkVrW"
      }
    },
    {
      "cell_type": "markdown",
      "source": [],
      "metadata": {
        "id": "v17JNHsIjbYd"
      }
    },
    {
      "cell_type": "markdown",
      "source": [],
      "metadata": {
        "id": "1AZ3tg65jbEq"
      }
    },
    {
      "cell_type": "code",
      "source": [],
      "metadata": {
        "id": "xHe6gxRcX03T"
      },
      "execution_count": null,
      "outputs": []
    },
    {
      "cell_type": "code",
      "source": [],
      "metadata": {
        "id": "5jWMAowWX004"
      },
      "execution_count": null,
      "outputs": []
    },
    {
      "cell_type": "code",
      "source": [],
      "metadata": {
        "id": "vplA3weFX0wI"
      },
      "execution_count": null,
      "outputs": []
    },
    {
      "cell_type": "code",
      "source": [],
      "metadata": {
        "id": "vI288d3eX0tn"
      },
      "execution_count": null,
      "outputs": []
    },
    {
      "cell_type": "code",
      "source": [],
      "metadata": {
        "id": "XQsQCeTPX0rE"
      },
      "execution_count": null,
      "outputs": []
    },
    {
      "cell_type": "code",
      "source": [],
      "metadata": {
        "id": "eKNc7cctX0oP"
      },
      "execution_count": null,
      "outputs": []
    },
    {
      "cell_type": "code",
      "execution_count": null,
      "metadata": {
        "id": "G1n45mv0Xs6b"
      },
      "outputs": [],
      "source": []
    }
  ]
}