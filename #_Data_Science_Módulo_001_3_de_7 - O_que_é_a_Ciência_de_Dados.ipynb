{
  "nbformat": 4,
  "nbformat_minor": 0,
  "metadata": {
    "colab": {
      "provenance": []
    },
    "kernelspec": {
      "name": "python3",
      "display_name": "Python 3"
    },
    "language_info": {
      "name": "python"
    }
  },
  "cells": [
    {
      "cell_type": "markdown",
      "source": [
        "# O que é a Ciência de Dados\n",
        "\n",
        "É o processo de exploração, manipulação e análise dos dados para a descoberta e previsão através da criação de hipóteses, testes e validação com o objetivos de responder perguntas do negócio e/ou fazer recomendações capazes de serem diferenciais de negócio.\n",
        "\n",
        "Todo esse processo precisa ter um forte embasamento estatístico e matemático e ser diretamente ligado ao negócio, além de poder ser feito de forma escalável e replicável.\n",
        "\n",
        "Ela tem três pilares\n",
        "1. Matemático e Estatístico;\n",
        "2. Negócio\n",
        "3. Tecnologia"
      ],
      "metadata": {
        "id": "8U0rDmXkE5Ij"
      }
    },
    {
      "cell_type": "code",
      "execution_count": null,
      "metadata": {
        "id": "NZkrm2lEl2zf"
      },
      "outputs": [],
      "source": []
    }
  ]
}